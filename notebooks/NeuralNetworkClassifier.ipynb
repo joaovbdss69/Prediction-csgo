{
  "cells": [
    {
      "cell_type": "markdown",
      "metadata": {
        "id": "nJJbXFZvYZTS"
      },
      "source": [
        "## Imports"
      ]
    },
    {
      "cell_type": "code",
      "execution_count": 7,
      "metadata": {
        "id": "hSmeJmlkSPq1"
      },
      "outputs": [],
      "source": [
        "import pandas as pd\n",
        "import numpy as np\n",
        "import seaborn as sns\n",
        "import matplotlib.pyplot as plt\n",
        "from tensorflow import keras\n",
        "import warnings\n",
        "warnings.filterwarnings('ignore')"
      ]
    },
    {
      "cell_type": "markdown",
      "metadata": {},
      "source": [
        "## Leitura e Separação entre Treino e Teste"
      ]
    },
    {
      "cell_type": "code",
      "execution_count": 3,
      "metadata": {
        "id": "MvpV675WYchz"
      },
      "outputs": [],
      "source": [
        "df = pd.read_csv(c.DATA_PROCESSED_FLD/'datasetFinal.csv')"
      ]
    },
    {
      "cell_type": "code",
      "execution_count": 23,
      "metadata": {
        "id": "BNaYtAyaZURW"
      },
      "outputs": [],
      "source": [
        "X, y = df.drop(['tr_win'], axis=1), df['tr_win']\n",
        "\n",
        "X_train, X_test, y_train, y_test = train_test_split(X, y, test_size=0.2, random_state=42)\n"
      ]
    },
    {
      "cell_type": "markdown",
      "metadata": {},
      "source": [
        "#### Mudança de tipo para TenserFlow"
      ]
    },
    {
      "cell_type": "code",
      "execution_count": 27,
      "metadata": {
        "id": "d1mLFJj9iaSe"
      },
      "outputs": [],
      "source": [
        "X_train = np.asarray(X_train).astype(np.int)\n",
        "X_test = np.asarray(X_test).astype(np.int)\n",
        "y_train = np.asarray(y_train).astype(np.int)\n",
        "y_test = np.asarray(y_test).astype(np.int)\n"
      ]
    },
    {
      "cell_type": "markdown",
      "metadata": {},
      "source": [
        "## Modelo"
      ]
    },
    {
      "cell_type": "code",
      "execution_count": 24,
      "metadata": {
        "id": "P7kBibJGYmk1"
      },
      "outputs": [],
      "source": [
        "model = keras.models.Sequential()\n",
        "model.add(keras.layers.Input(shape=(24,)))\n",
        "model.add(keras.layers.Dense(200, activation=\"relu\"))\n",
        "model.add(keras.layers.Dense(100, activation=\"relu\"))\n",
        "model.add(keras.layers.Dense(100, activation=\"relu\"))\n",
        "model.add(keras.layers.Dense(1, activation=\"sigmoid\"))\n",
        "\n"
      ]
    },
    {
      "cell_type": "code",
      "execution_count": 37,
      "metadata": {
        "id": "UrKKVFQYcf-d"
      },
      "outputs": [],
      "source": [
        "model.compile(loss=\"binary_crossentropy\",optimizer=\"adam\",metrics=[\"accuracy\",\"AUC\",\"Precision\",\"Recall\"])"
      ]
    },
    {
      "cell_type": "code",
      "execution_count": 38,
      "metadata": {
        "colab": {
          "base_uri": "https://localhost:8080/"
        },
        "id": "Zz3K6GJ6czt_",
        "outputId": "2842d422-01c9-4b62-f876-6d580646d3e2"
      },
      "outputs": [
        {
          "name": "stdout",
          "output_type": "stream",
          "text": [
            "Epoch 1/30\n",
            "3061/3061 [==============================] - 9s 3ms/step - loss: 0.4631 - accuracy: 0.7449 - auc: 0.8489 - precision: 0.8158 - recall: 0.6453 - val_loss: 0.4561 - val_accuracy: 0.7496 - val_auc: 0.8538 - val_precision: 0.8434 - val_recall: 0.6246\n",
            "Epoch 2/30\n",
            "3061/3061 [==============================] - 8s 3ms/step - loss: 0.4630 - accuracy: 0.7450 - auc: 0.8485 - precision: 0.8218 - recall: 0.6384 - val_loss: 0.4586 - val_accuracy: 0.7502 - val_auc: 0.8539 - val_precision: 0.7956 - val_recall: 0.6861\n",
            "Epoch 3/30\n",
            "3061/3061 [==============================] - 8s 3ms/step - loss: 0.4617 - accuracy: 0.7463 - auc: 0.8491 - precision: 0.8163 - recall: 0.6484 - val_loss: 0.4601 - val_accuracy: 0.7503 - val_auc: 0.8519 - val_precision: 0.7737 - val_recall: 0.7209\n",
            "Epoch 4/30\n",
            "3061/3061 [==============================] - 8s 3ms/step - loss: 0.4626 - accuracy: 0.7461 - auc: 0.8495 - precision: 0.8138 - recall: 0.6510 - val_loss: 0.4620 - val_accuracy: 0.7433 - val_auc: 0.8520 - val_precision: 0.7336 - val_recall: 0.7794\n",
            "Epoch 5/30\n",
            "3061/3061 [==============================] - 7s 2ms/step - loss: 0.4624 - accuracy: 0.7455 - auc: 0.8487 - precision: 0.8149 - recall: 0.6480 - val_loss: 0.4559 - val_accuracy: 0.7521 - val_auc: 0.8547 - val_precision: 0.8256 - val_recall: 0.6512\n",
            "Epoch 6/30\n",
            "3061/3061 [==============================] - 8s 2ms/step - loss: 0.4619 - accuracy: 0.7460 - auc: 0.8493 - precision: 0.8142 - recall: 0.6503 - val_loss: 0.4607 - val_accuracy: 0.7523 - val_auc: 0.8530 - val_precision: 0.8059 - val_recall: 0.6772\n",
            "Epoch 7/30\n",
            "3061/3061 [==============================] - 7s 2ms/step - loss: 0.4609 - accuracy: 0.7465 - auc: 0.8503 - precision: 0.8182 - recall: 0.6464 - val_loss: 0.4568 - val_accuracy: 0.7501 - val_auc: 0.8538 - val_precision: 0.8211 - val_recall: 0.6516\n",
            "Epoch 8/30\n",
            "3061/3061 [==============================] - 8s 3ms/step - loss: 0.4609 - accuracy: 0.7453 - auc: 0.8496 - precision: 0.8216 - recall: 0.6394 - val_loss: 0.4629 - val_accuracy: 0.7481 - val_auc: 0.8551 - val_precision: 0.8686 - val_recall: 0.5959\n",
            "Epoch 9/30\n",
            "3061/3061 [==============================] - 8s 3ms/step - loss: 0.4608 - accuracy: 0.7462 - auc: 0.8499 - precision: 0.8141 - recall: 0.6507 - val_loss: 0.4566 - val_accuracy: 0.7520 - val_auc: 0.8541 - val_precision: 0.8396 - val_recall: 0.6347\n",
            "Epoch 10/30\n",
            "3061/3061 [==============================] - 7s 2ms/step - loss: 0.4599 - accuracy: 0.7466 - auc: 0.8506 - precision: 0.8169 - recall: 0.6482 - val_loss: 0.4553 - val_accuracy: 0.7513 - val_auc: 0.8546 - val_precision: 0.8564 - val_recall: 0.6152\n",
            "Epoch 11/30\n",
            "3061/3061 [==============================] - 43s 14ms/step - loss: 0.4596 - accuracy: 0.7470 - auc: 0.8506 - precision: 0.8214 - recall: 0.6437 - val_loss: 0.4546 - val_accuracy: 0.7534 - val_auc: 0.8558 - val_precision: 0.8368 - val_recall: 0.6413\n",
            "Epoch 12/30\n",
            "3061/3061 [==============================] - 7s 2ms/step - loss: 0.4595 - accuracy: 0.7466 - auc: 0.8512 - precision: 0.8137 - recall: 0.6523 - val_loss: 0.4567 - val_accuracy: 0.7495 - val_auc: 0.8544 - val_precision: 0.7676 - val_recall: 0.7294\n",
            "Epoch 13/30\n",
            "3061/3061 [==============================] - 8s 2ms/step - loss: 0.4590 - accuracy: 0.7452 - auc: 0.8509 - precision: 0.8031 - recall: 0.6628 - val_loss: 0.4583 - val_accuracy: 0.7517 - val_auc: 0.8536 - val_precision: 0.8154 - val_recall: 0.6628\n",
            "Epoch 14/30\n",
            "3061/3061 [==============================] - 8s 2ms/step - loss: 0.4593 - accuracy: 0.7469 - auc: 0.8505 - precision: 0.8224 - recall: 0.6422 - val_loss: 0.4558 - val_accuracy: 0.7504 - val_auc: 0.8550 - val_precision: 0.8562 - val_recall: 0.6134\n",
            "Epoch 15/30\n",
            "3061/3061 [==============================] - 9s 3ms/step - loss: 0.4590 - accuracy: 0.7450 - auc: 0.8510 - precision: 0.8099 - recall: 0.6533 - val_loss: 0.4574 - val_accuracy: 0.7416 - val_auc: 0.8539 - val_precision: 0.7045 - val_recall: 0.8492\n",
            "Epoch 16/30\n",
            "3061/3061 [==============================] - 7s 2ms/step - loss: 0.4592 - accuracy: 0.7457 - auc: 0.8508 - precision: 0.7964 - recall: 0.6733 - val_loss: 0.4554 - val_accuracy: 0.7471 - val_auc: 0.8539 - val_precision: 0.8576 - val_recall: 0.6041\n"
          ]
        },
        {
          "data": {
            "text/plain": [
              "<keras.src.callbacks.History at 0x7bde986086d0>"
            ]
          },
          "execution_count": 38,
          "metadata": {},
          "output_type": "execute_result"
        }
      ],
      "source": [
        "early_stopping_cb = keras.callbacks.EarlyStopping(patience=5)\n",
        "\n",
        "model.fit(X_train,y_train, epochs=30,callbacks=[early_stopping_cb],validation_data=(X_test,y_test))"
      ]
    }
  ],
  "metadata": {
    "colab": {
      "provenance": []
    },
    "kernelspec": {
      "display_name": "Python 3",
      "name": "python3"
    },
    "language_info": {
      "name": "python",
      "version": "3.9.12"
    }
  },
  "nbformat": 4,
  "nbformat_minor": 0
}
