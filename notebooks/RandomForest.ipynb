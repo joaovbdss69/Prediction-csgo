{
 "cells": [
  {
   "cell_type": "markdown",
   "metadata": {},
   "source": [
    "## Imports"
   ]
  },
  {
   "cell_type": "code",
   "execution_count": 1,
   "metadata": {},
   "outputs": [],
   "source": [
    "import inspect\n",
    "import os  # paths para os scripts\n",
    "import sys\n",
    "\n",
    "sys.path.append(os.path.join(os.path.dirname(sys.path[0]), \"src\"))\n",
    "sys.path.append(os.path.join(os.path.dirname(sys.path[0]), \"src\", \"data\"))\n",
    "sys.path.append(os.path.join(os.path.dirname(sys.path[0]), \"src\", \"features\"))\n",
    "sys.path.append(os.path.join(os.path.dirname(sys.path[0]), \"src\", \"models\"))\n",
    "sys.path.append(os.path.join(os.path.dirname(sys.path[0]), \"src\", \"visualization\"))\n",
    "import context as c  # shotscuts para os paths"
   ]
  },
  {
   "cell_type": "code",
   "execution_count": 2,
   "metadata": {},
   "outputs": [],
   "source": [
    "import pandas as pd\n",
    "import numpy as np\n",
    "from sklearn import datasets\n",
    "from sklearn.metrics import confusion_matrix\n",
    "from sklearn.model_selection import train_test_split\n",
    "from sklearn.ensemble import RandomForestClassifier\n",
    "from sklearn.metrics import classification_report,confusion_matrix, accuracy_score, precision_score, recall_score, f1_score\n",
    "import seaborn as sns\n",
    "import matplotlib.pyplot as plt\n",
    "import warnings\n",
    "warnings.filterwarnings('ignore')\n"
   ]
  },
  {
   "cell_type": "markdown",
   "metadata": {},
   "source": [
    "## Separação Treino e Teste"
   ]
  },
  {
   "cell_type": "code",
   "execution_count": 3,
   "metadata": {},
   "outputs": [],
   "source": [
    "df = pd.read_csv(c.DATA_PROCESSED_FLD/'datasetFinal.csv')"
   ]
  },
  {
   "cell_type": "code",
   "execution_count": 5,
   "metadata": {},
   "outputs": [],
   "source": [
    "X, y = df.drop(['tr_win'], axis=1), df['tr_win']\n",
    "\n",
    "X_train, X_test, y_train, y_test = train_test_split(X, y, test_size=0.2, random_state=42)"
   ]
  },
  {
   "cell_type": "code",
   "execution_count": 6,
   "metadata": {},
   "outputs": [
    {
     "name": "stdout",
     "output_type": "stream",
     "text": [
      "X_train shape:  (97928, 24)\n",
      "X_test shape:  (24482, 24)\n"
     ]
    }
   ],
   "source": [
    "print('X_train shape: ', X_train.shape)\n",
    "print('X_test shape: ', X_test.shape)"
   ]
  },
  {
   "cell_type": "markdown",
   "metadata": {},
   "source": [
    "## Otimização de Parâmetros"
   ]
  },
  {
   "cell_type": "code",
   "execution_count": 12,
   "metadata": {},
   "outputs": [],
   "source": [
    "from bayes_opt import BayesianOptimization\n",
    "from sklearn.model_selection import cross_val_score"
   ]
  },
  {
   "cell_type": "code",
   "execution_count": 22,
   "metadata": {},
   "outputs": [],
   "source": [
    "params = {\n",
    "    'n_estimators': (100, 1000),\n",
    "    'max_depth': (1, 10)\n",
    "}  "
   ]
  },
  {
   "cell_type": "code",
   "execution_count": 23,
   "metadata": {},
   "outputs": [],
   "source": [
    "def randomForest_hyper_parms(n_estimators, max_depth):\n",
    "    n_estimators = int(n_estimators)\n",
    "    max_depth = int(max_depth)\n",
    "    model = RandomForestClassifier(n_estimators=n_estimators,\n",
    "                                   max_depth=max_depth,\n",
    "                                   max_features='sqrt',\n",
    "                                   criterion='gini'\n",
    "                                   )\n",
    "    return np.mean(cross_val_score(model,X_train,y_train,cv=10,scoring='roc_auc'))"
   ]
  },
  {
   "cell_type": "code",
   "execution_count": 24,
   "metadata": {},
   "outputs": [
    {
     "name": "stdout",
     "output_type": "stream",
     "text": [
      "|   iter    |  target   | max_depth | n_esti... |\n",
      "-------------------------------------------------\n",
      "| \u001b[0m1        \u001b[0m | \u001b[0m0.8302   \u001b[0m | \u001b[0m4.753    \u001b[0m | \u001b[0m748.3    \u001b[0m |\n",
      "| \u001b[0m2        \u001b[0m | \u001b[0m0.7915   \u001b[0m | \u001b[0m1.001    \u001b[0m | \u001b[0m372.1    \u001b[0m |\n",
      "| \u001b[0m3        \u001b[0m | \u001b[0m0.8088   \u001b[0m | \u001b[0m2.321    \u001b[0m | \u001b[0m183.1    \u001b[0m |\n",
      "| \u001b[0m4        \u001b[0m | \u001b[0m0.8088   \u001b[0m | \u001b[0m2.676    \u001b[0m | \u001b[0m411.0    \u001b[0m |\n",
      "| \u001b[0m5        \u001b[0m | \u001b[0m0.8297   \u001b[0m | \u001b[0m4.571    \u001b[0m | \u001b[0m584.9    \u001b[0m |\n",
      "| \u001b[95m6        \u001b[0m | \u001b[95m0.8303   \u001b[0m | \u001b[95m4.773    \u001b[0m | \u001b[95m716.7    \u001b[0m |\n",
      "| \u001b[0m7        \u001b[0m | \u001b[0m0.8093   \u001b[0m | \u001b[0m2.84     \u001b[0m | \u001b[0m890.3    \u001b[0m |\n",
      "| \u001b[0m8        \u001b[0m | \u001b[0m0.7932   \u001b[0m | \u001b[0m1.246    \u001b[0m | \u001b[0m703.4    \u001b[0m |\n",
      "| \u001b[0m9        \u001b[0m | \u001b[0m0.8301   \u001b[0m | \u001b[0m4.544    \u001b[0m | \u001b[0m748.0    \u001b[0m |\n",
      "| \u001b[95m10       \u001b[0m | \u001b[95m0.8372   \u001b[0m | \u001b[95m6.0      \u001b[0m | \u001b[95m726.3    \u001b[0m |\n",
      "| \u001b[95m11       \u001b[0m | \u001b[95m0.8551   \u001b[0m | \u001b[95m9.884    \u001b[0m | \u001b[95m566.4    \u001b[0m |\n",
      "| \u001b[0m12       \u001b[0m | \u001b[0m0.8089   \u001b[0m | \u001b[0m2.056    \u001b[0m | \u001b[0m555.2    \u001b[0m |\n",
      "| \u001b[0m13       \u001b[0m | \u001b[0m0.855    \u001b[0m | \u001b[0m9.969    \u001b[0m | \u001b[0m573.9    \u001b[0m |\n",
      "Unexpected exception formatting exception. Falling back to standard exception\n"
     ]
    },
    {
     "name": "stderr",
     "output_type": "stream",
     "text": [
      "Traceback (most recent call last):\n",
      "  File \"c:\\Users\\T-Gamer\\anaconda3\\lib\\site-packages\\IPython\\core\\interactiveshell.py\", line 3369, in run_code\n",
      "    exec(code_obj, self.user_global_ns, self.user_ns)\n",
      "  File \"C:\\Users\\T-Gamer\\AppData\\Local\\Temp\\ipykernel_1924\\3999602380.py\", line 2, in <cell line: 2>\n",
      "    otimizacao.maximize(n_iter=15, init_points=8, acq='ei')\n",
      "  File \"c:\\Users\\T-Gamer\\anaconda3\\lib\\site-packages\\bayes_opt\\bayesian_optimization.py\", line 311, in maximize\n",
      "    self.probe(x_probe, lazy=False)\n",
      "  File \"c:\\Users\\T-Gamer\\anaconda3\\lib\\site-packages\\bayes_opt\\bayesian_optimization.py\", line 208, in probe\n",
      "    self._space.probe(params)\n",
      "  File \"c:\\Users\\T-Gamer\\anaconda3\\lib\\site-packages\\bayes_opt\\target_space.py\", line 236, in probe\n",
      "    target = self.target_func(**params)\n",
      "  File \"C:\\Users\\T-Gamer\\AppData\\Local\\Temp\\ipykernel_1924\\828408793.py\", line 9, in randomForest_hyper_parms\n",
      "    return np.mean(cross_val_score(model,X_train,y_train,cv=10,scoring='roc_auc'))\n",
      "  File \"c:\\Users\\T-Gamer\\anaconda3\\lib\\site-packages\\sklearn\\utils\\validation.py\", line 63, in inner_f\n",
      "    return f(*args, **kwargs)\n",
      "  File \"c:\\Users\\T-Gamer\\anaconda3\\lib\\site-packages\\sklearn\\model_selection\\_validation.py\", line 445, in cross_val_score\n",
      "    cv_results = cross_validate(estimator=estimator, X=X, y=y, groups=groups,\n",
      "  File \"c:\\Users\\T-Gamer\\anaconda3\\lib\\site-packages\\sklearn\\utils\\validation.py\", line 63, in inner_f\n",
      "    return f(*args, **kwargs)\n",
      "  File \"c:\\Users\\T-Gamer\\anaconda3\\lib\\site-packages\\sklearn\\model_selection\\_validation.py\", line 250, in cross_validate\n",
      "    results = parallel(\n",
      "  File \"c:\\Users\\T-Gamer\\anaconda3\\lib\\site-packages\\joblib\\parallel.py\", line 1046, in __call__\n",
      "    while self.dispatch_one_batch(iterator):\n",
      "  File \"c:\\Users\\T-Gamer\\anaconda3\\lib\\site-packages\\joblib\\parallel.py\", line 861, in dispatch_one_batch\n",
      "    self._dispatch(tasks)\n",
      "  File \"c:\\Users\\T-Gamer\\anaconda3\\lib\\site-packages\\joblib\\parallel.py\", line 779, in _dispatch\n",
      "    job = self._backend.apply_async(batch, callback=cb)\n",
      "  File \"c:\\Users\\T-Gamer\\anaconda3\\lib\\site-packages\\joblib\\_parallel_backends.py\", line 208, in apply_async\n",
      "    result = ImmediateResult(func)\n",
      "  File \"c:\\Users\\T-Gamer\\anaconda3\\lib\\site-packages\\joblib\\_parallel_backends.py\", line 572, in __init__\n",
      "    self.results = batch()\n",
      "  File \"c:\\Users\\T-Gamer\\anaconda3\\lib\\site-packages\\joblib\\parallel.py\", line 262, in __call__\n",
      "    return [func(*args, **kwargs)\n",
      "  File \"c:\\Users\\T-Gamer\\anaconda3\\lib\\site-packages\\joblib\\parallel.py\", line 262, in <listcomp>\n",
      "    return [func(*args, **kwargs)\n",
      "  File \"c:\\Users\\T-Gamer\\anaconda3\\lib\\site-packages\\sklearn\\utils\\fixes.py\", line 222, in __call__\n",
      "    return self.function(*args, **kwargs)\n",
      "  File \"c:\\Users\\T-Gamer\\anaconda3\\lib\\site-packages\\sklearn\\model_selection\\_validation.py\", line 598, in _fit_and_score\n",
      "    estimator.fit(X_train, y_train, **fit_params)\n",
      "  File \"c:\\Users\\T-Gamer\\anaconda3\\lib\\site-packages\\sklearn\\ensemble\\_forest.py\", line 387, in fit\n",
      "    trees = Parallel(n_jobs=self.n_jobs, verbose=self.verbose,\n",
      "  File \"c:\\Users\\T-Gamer\\anaconda3\\lib\\site-packages\\joblib\\parallel.py\", line 1046, in __call__\n",
      "    while self.dispatch_one_batch(iterator):\n",
      "  File \"c:\\Users\\T-Gamer\\anaconda3\\lib\\site-packages\\joblib\\parallel.py\", line 861, in dispatch_one_batch\n",
      "    self._dispatch(tasks)\n",
      "  File \"c:\\Users\\T-Gamer\\anaconda3\\lib\\site-packages\\joblib\\parallel.py\", line 779, in _dispatch\n",
      "    job = self._backend.apply_async(batch, callback=cb)\n",
      "  File \"c:\\Users\\T-Gamer\\anaconda3\\lib\\site-packages\\joblib\\_parallel_backends.py\", line 208, in apply_async\n",
      "    result = ImmediateResult(func)\n",
      "  File \"c:\\Users\\T-Gamer\\anaconda3\\lib\\site-packages\\joblib\\_parallel_backends.py\", line 572, in __init__\n",
      "    self.results = batch()\n",
      "  File \"c:\\Users\\T-Gamer\\anaconda3\\lib\\site-packages\\joblib\\parallel.py\", line 262, in __call__\n",
      "    return [func(*args, **kwargs)\n",
      "  File \"c:\\Users\\T-Gamer\\anaconda3\\lib\\site-packages\\joblib\\parallel.py\", line 262, in <listcomp>\n",
      "    return [func(*args, **kwargs)\n",
      "  File \"c:\\Users\\T-Gamer\\anaconda3\\lib\\site-packages\\sklearn\\utils\\fixes.py\", line 222, in __call__\n",
      "    return self.function(*args, **kwargs)\n",
      "  File \"c:\\Users\\T-Gamer\\anaconda3\\lib\\site-packages\\sklearn\\ensemble\\_forest.py\", line 169, in _parallel_build_trees\n",
      "    tree.fit(X, y, sample_weight=curr_sample_weight, check_input=False)\n",
      "  File \"c:\\Users\\T-Gamer\\anaconda3\\lib\\site-packages\\sklearn\\tree\\_classes.py\", line 903, in fit\n",
      "    super().fit(\n",
      "  File \"c:\\Users\\T-Gamer\\anaconda3\\lib\\site-packages\\sklearn\\tree\\_classes.py\", line 202, in fit\n",
      "    classes_k, y_encoded[:, k] = np.unique(y[:, k],\n",
      "KeyboardInterrupt\n",
      "\n",
      "During handling of the above exception, another exception occurred:\n",
      "\n",
      "Traceback (most recent call last):\n",
      "  File \"c:\\Users\\T-Gamer\\anaconda3\\lib\\site-packages\\IPython\\core\\interactiveshell.py\", line 1982, in showtraceback\n",
      "    stb = self.InteractiveTB.structured_traceback(\n",
      "  File \"c:\\Users\\T-Gamer\\anaconda3\\lib\\site-packages\\IPython\\core\\ultratb.py\", line 1118, in structured_traceback\n",
      "    return FormattedTB.structured_traceback(\n",
      "  File \"c:\\Users\\T-Gamer\\anaconda3\\lib\\site-packages\\IPython\\core\\ultratb.py\", line 1012, in structured_traceback\n",
      "    return VerboseTB.structured_traceback(\n",
      "  File \"c:\\Users\\T-Gamer\\anaconda3\\lib\\site-packages\\IPython\\core\\ultratb.py\", line 865, in structured_traceback\n",
      "    formatted_exception = self.format_exception_as_a_whole(etype, evalue, etb, number_of_lines_of_context,\n",
      "  File \"c:\\Users\\T-Gamer\\anaconda3\\lib\\site-packages\\IPython\\core\\ultratb.py\", line 818, in format_exception_as_a_whole\n",
      "    frames.append(self.format_record(r))\n",
      "  File \"c:\\Users\\T-Gamer\\anaconda3\\lib\\site-packages\\IPython\\core\\ultratb.py\", line 736, in format_record\n",
      "    result += ''.join(_format_traceback_lines(frame_info.lines, Colors, self.has_colors, lvals))\n",
      "  File \"c:\\Users\\T-Gamer\\anaconda3\\lib\\site-packages\\stack_data\\utils.py\", line 145, in cached_property_wrapper\n",
      "    value = obj.__dict__[self.func.__name__] = self.func(obj)\n",
      "  File \"c:\\Users\\T-Gamer\\anaconda3\\lib\\site-packages\\stack_data\\core.py\", line 698, in lines\n",
      "    pieces = self.included_pieces\n",
      "  File \"c:\\Users\\T-Gamer\\anaconda3\\lib\\site-packages\\stack_data\\utils.py\", line 145, in cached_property_wrapper\n",
      "    value = obj.__dict__[self.func.__name__] = self.func(obj)\n",
      "  File \"c:\\Users\\T-Gamer\\anaconda3\\lib\\site-packages\\stack_data\\core.py\", line 649, in included_pieces\n",
      "    pos = scope_pieces.index(self.executing_piece)\n",
      "  File \"c:\\Users\\T-Gamer\\anaconda3\\lib\\site-packages\\stack_data\\utils.py\", line 145, in cached_property_wrapper\n",
      "    value = obj.__dict__[self.func.__name__] = self.func(obj)\n",
      "  File \"c:\\Users\\T-Gamer\\anaconda3\\lib\\site-packages\\stack_data\\core.py\", line 628, in executing_piece\n",
      "    return only(\n",
      "  File \"c:\\Users\\T-Gamer\\anaconda3\\lib\\site-packages\\executing\\executing.py\", line 164, in only\n",
      "    raise NotOneValueFound('Expected one value, found 0')\n",
      "executing.executing.NotOneValueFound: Expected one value, found 0\n"
     ]
    }
   ],
   "source": [
    "otimizacao = BayesianOptimization(f=randomForest_hyper_parms,pbounds = params,random_state=1)\n",
    "otimizacao.maximize(n_iter=15, init_points=8, acq='ei')\n",
    "parametros = otimizacao.max['params']"
   ]
  }
 ],
 "metadata": {
  "kernelspec": {
   "display_name": "base",
   "language": "python",
   "name": "python3"
  },
  "language_info": {
   "codemirror_mode": {
    "name": "ipython",
    "version": 3
   },
   "file_extension": ".py",
   "mimetype": "text/x-python",
   "name": "python",
   "nbconvert_exporter": "python",
   "pygments_lexer": "ipython3",
   "version": "3.9.12"
  },
  "orig_nbformat": 4
 },
 "nbformat": 4,
 "nbformat_minor": 2
}
