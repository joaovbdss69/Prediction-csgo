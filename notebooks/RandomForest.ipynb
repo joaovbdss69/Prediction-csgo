{
 "cells": [
  {
   "cell_type": "markdown",
   "metadata": {},
   "source": [
    "## Imports"
   ]
  },
  {
   "cell_type": "code",
   "execution_count": 1,
   "metadata": {},
   "outputs": [],
   "source": [
    "import inspect\n",
    "import os  # paths para os scripts\n",
    "import sys\n",
    "\n",
    "sys.path.append(os.path.join(os.path.dirname(sys.path[0]), \"src\"))\n",
    "sys.path.append(os.path.join(os.path.dirname(sys.path[0]), \"src\", \"data\"))\n",
    "sys.path.append(os.path.join(os.path.dirname(sys.path[0]), \"src\", \"features\"))\n",
    "sys.path.append(os.path.join(os.path.dirname(sys.path[0]), \"src\", \"models\"))\n",
    "sys.path.append(os.path.join(os.path.dirname(sys.path[0]), \"src\", \"visualization\"))\n",
    "import context as c  # shotscuts para os paths"
   ]
  },
  {
   "cell_type": "code",
   "execution_count": 2,
   "metadata": {},
   "outputs": [],
   "source": [
    "import pandas as pd\n",
    "import numpy as np\n",
    "from sklearn import datasets\n",
    "from sklearn.metrics import confusion_matrix\n",
    "from sklearn.model_selection import train_test_split\n",
    "from sklearn.ensemble import RandomForestClassifier\n",
    "from sklearn.metrics import classification_report,confusion_matrix, accuracy_score, precision_score, recall_score, f1_score\n",
    "import seaborn as sns\n",
    "import matplotlib.pyplot as plt\n",
    "import warnings\n",
    "warnings.filterwarnings('ignore')\n"
   ]
  },
  {
   "cell_type": "markdown",
   "metadata": {},
   "source": [
    "## Separação Treino e Teste"
   ]
  },
  {
   "cell_type": "code",
   "execution_count": 3,
   "metadata": {},
   "outputs": [],
   "source": [
    "df = pd.read_csv(c.DATA_PROCESSED_FLD/'datasetFinal.csv')"
   ]
  },
  {
   "cell_type": "code",
   "execution_count": 4,
   "metadata": {},
   "outputs": [],
   "source": [
    "X, y = df.drop(['tr_win'], axis=1), df['tr_win']\n",
    "\n",
    "X_train, X_test, y_train, y_test = train_test_split(X, y, test_size=0.2, random_state=42)"
   ]
  },
  {
   "cell_type": "code",
   "execution_count": 5,
   "metadata": {},
   "outputs": [
    {
     "name": "stdout",
     "output_type": "stream",
     "text": [
      "X_train shape:  (97928, 24)\n",
      "X_test shape:  (24482, 24)\n"
     ]
    }
   ],
   "source": [
    "print('X_train shape: ', X_train.shape)\n",
    "print('X_test shape: ', X_test.shape)"
   ]
  },
  {
   "cell_type": "markdown",
   "metadata": {},
   "source": [
    "## Otimização de Parâmetros"
   ]
  },
  {
   "cell_type": "code",
   "execution_count": 6,
   "metadata": {},
   "outputs": [],
   "source": [
    "from bayes_opt import BayesianOptimization\n",
    "from sklearn.model_selection import cross_val_score"
   ]
  },
  {
   "cell_type": "code",
   "execution_count": 8,
   "metadata": {},
   "outputs": [],
   "source": [
    "params = {\n",
    "    'n_estimators': (100, 600),\n",
    "    'max_depth': (1, 10)\n",
    "}  "
   ]
  },
  {
   "cell_type": "code",
   "execution_count": 9,
   "metadata": {},
   "outputs": [],
   "source": [
    "def randomForest_hyper_parms(n_estimators, max_depth):\n",
    "    n_estimators = int(n_estimators)\n",
    "    max_depth = int(max_depth)\n",
    "    model = RandomForestClassifier(n_estimators=n_estimators,\n",
    "                                   max_depth=max_depth,\n",
    "                                   max_features='sqrt',\n",
    "                                   criterion='gini'\n",
    "                                   )\n",
    "    return np.mean(cross_val_score(model,X_train,y_train,cv=10,scoring='roc_auc'))"
   ]
  },
  {
   "cell_type": "code",
   "execution_count": 10,
   "metadata": {},
   "outputs": [
    {
     "name": "stdout",
     "output_type": "stream",
     "text": [
      "|   iter    |  target   | max_depth | n_esti... |\n",
      "-------------------------------------------------\n",
      "| \u001b[0m1        \u001b[0m | \u001b[0m0.8302   \u001b[0m | \u001b[0m4.753    \u001b[0m | \u001b[0m460.2    \u001b[0m |\n",
      "| \u001b[0m2        \u001b[0m | \u001b[0m0.7918   \u001b[0m | \u001b[0m1.001    \u001b[0m | \u001b[0m251.2    \u001b[0m |\n",
      "| \u001b[0m3        \u001b[0m | \u001b[0m0.8088   \u001b[0m | \u001b[0m2.321    \u001b[0m | \u001b[0m146.2    \u001b[0m |\n",
      "| \u001b[0m4        \u001b[0m | \u001b[0m0.8083   \u001b[0m | \u001b[0m2.676    \u001b[0m | \u001b[0m272.8    \u001b[0m |\n",
      "| \u001b[0m5        \u001b[0m | \u001b[0m0.8298   \u001b[0m | \u001b[0m4.571    \u001b[0m | \u001b[0m369.4    \u001b[0m |\n",
      "| \u001b[0m6        \u001b[0m | \u001b[0m0.8301   \u001b[0m | \u001b[0m4.773    \u001b[0m | \u001b[0m442.6    \u001b[0m |\n",
      "| \u001b[0m7        \u001b[0m | \u001b[0m0.8088   \u001b[0m | \u001b[0m2.84     \u001b[0m | \u001b[0m539.1    \u001b[0m |\n",
      "| \u001b[0m8        \u001b[0m | \u001b[0m0.7926   \u001b[0m | \u001b[0m1.246    \u001b[0m | \u001b[0m435.2    \u001b[0m |\n",
      "| \u001b[0m9        \u001b[0m | \u001b[0m0.8299   \u001b[0m | \u001b[0m4.544    \u001b[0m | \u001b[0m460.0    \u001b[0m |\n",
      "| \u001b[95m10       \u001b[0m | \u001b[95m0.8371   \u001b[0m | \u001b[95m5.884    \u001b[0m | \u001b[95m448.2    \u001b[0m |\n",
      "| \u001b[95m11       \u001b[0m | \u001b[95m0.855    \u001b[0m | \u001b[95m9.691    \u001b[0m | \u001b[95m454.4    \u001b[0m |\n",
      "| \u001b[0m12       \u001b[0m | \u001b[0m0.8512   \u001b[0m | \u001b[0m8.571    \u001b[0m | \u001b[0m356.7    \u001b[0m |\n",
      "| \u001b[0m13       \u001b[0m | \u001b[0m0.7913   \u001b[0m | \u001b[0m1.0      \u001b[0m | \u001b[0m352.7    \u001b[0m |\n",
      "| \u001b[95m14       \u001b[0m | \u001b[95m0.855    \u001b[0m | \u001b[95m9.706    \u001b[0m | \u001b[95m362.4    \u001b[0m |\n",
      "| \u001b[95m15       \u001b[0m | \u001b[95m0.8551   \u001b[0m | \u001b[95m9.908    \u001b[0m | \u001b[95m475.6    \u001b[0m |\n",
      "| \u001b[95m16       \u001b[0m | \u001b[95m0.859    \u001b[0m | \u001b[95m10.0     \u001b[0m | \u001b[95m483.2    \u001b[0m |\n",
      "| \u001b[0m17       \u001b[0m | \u001b[0m0.7928   \u001b[0m | \u001b[0m1.79     \u001b[0m | \u001b[0m480.9    \u001b[0m |\n",
      "| \u001b[0m18       \u001b[0m | \u001b[0m0.8551   \u001b[0m | \u001b[0m9.094    \u001b[0m | \u001b[0m490.2    \u001b[0m |\n",
      "| \u001b[0m19       \u001b[0m | \u001b[0m0.8589   \u001b[0m | \u001b[0m10.0     \u001b[0m | \u001b[0m497.9    \u001b[0m |\n",
      "| \u001b[0m20       \u001b[0m | \u001b[0m0.8095   \u001b[0m | \u001b[0m2.587    \u001b[0m | \u001b[0m499.7    \u001b[0m |\n",
      "| \u001b[0m21       \u001b[0m | \u001b[0m0.859    \u001b[0m | \u001b[0m10.0     \u001b[0m | \u001b[0m469.1    \u001b[0m |\n",
      "| \u001b[0m22       \u001b[0m | \u001b[0m0.8551   \u001b[0m | \u001b[0m9.963    \u001b[0m | \u001b[0m507.1    \u001b[0m |\n",
      "| \u001b[0m23       \u001b[0m | \u001b[0m0.859    \u001b[0m | \u001b[0m10.0     \u001b[0m | \u001b[0m515.9    \u001b[0m |\n",
      "=================================================\n"
     ]
    }
   ],
   "source": [
    "otimizacao = BayesianOptimization(f=randomForest_hyper_parms,pbounds = params,random_state=1)\n",
    "otimizacao.maximize(n_iter=15, init_points=8, acq='ei')\n",
    "parametros = otimizacao.max['params']"
   ]
  },
  {
   "cell_type": "code",
   "execution_count": null,
   "metadata": {},
   "outputs": [],
   "source": []
  }
 ],
 "metadata": {
  "kernelspec": {
   "display_name": "base",
   "language": "python",
   "name": "python3"
  },
  "language_info": {
   "codemirror_mode": {
    "name": "ipython",
    "version": 3
   },
   "file_extension": ".py",
   "mimetype": "text/x-python",
   "name": "python",
   "nbconvert_exporter": "python",
   "pygments_lexer": "ipython3",
   "version": "3.9.12"
  },
  "orig_nbformat": 4
 },
 "nbformat": 4,
 "nbformat_minor": 2
}
